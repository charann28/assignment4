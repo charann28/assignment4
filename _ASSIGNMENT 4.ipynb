{
 "cells": [
  {
   "cell_type": "code",
   "execution_count": null,
   "id": "7febe27d",
   "metadata": {},
   "outputs": [],
   "source": [
    "1. What exactly is []?\n",
    "ANSWER:\n",
    "    [] this is an empty list.The empty list value, which is a list value that contains no items. This is similar to how '' is the empty string value."
   ]
  },
  {
   "cell_type": "code",
   "execution_count": null,
   "id": "4b584940",
   "metadata": {},
   "outputs": [],
   "source": [
    "2. In a list of values stored in a variable called spam, how would you assign the value 'hello' as the\n",
    "third value? (Assume [2, 4, 6, 8, 10] are in spam.)\n",
    "ANSWER:\n",
    "    spam=[2,4,6,8,10]\n",
    "    spam[2]='hello'\n",
    "    #the index no of the third value is 2 "
   ]
  },
  {
   "cell_type": "code",
   "execution_count": null,
   "id": "35012fae",
   "metadata": {},
   "outputs": [],
   "source": [
    "3. spam contains the list ['a', 'b', 'c', 'd']. What is the value of spam[int(int('3' * 2) // 11)] evaluate??\n",
    "ANSWER:\n",
    "    spam[int(int('3'*2)//11)]\n",
    "    '3'*2 is '33' and it is converted to integer by using int which is divided by 11 that is 33//11 which is 3\n",
    "    spam[3] is 'd'\n",
    "    #in 3rd index we have 'd'\n",
    "    The answer is 'd'."
   ]
  },
  {
   "cell_type": "code",
   "execution_count": null,
   "id": "8ab565f3",
   "metadata": {},
   "outputs": [],
   "source": [
    "4. What is the value of spam[-1]?\n",
    "ANSWER:\n",
    "    spam=['a','b','c','d']\n",
    "    spam[-1] is 'd'\n",
    "    the answer is 'd',because Negative indexes count from the end. \n",
    "    "
   ]
  },
  {
   "cell_type": "code",
   "execution_count": null,
   "id": "badd5579",
   "metadata": {},
   "outputs": [],
   "source": [
    "5. What is the value of spam[:2]?\n",
    "ANSWER:\n",
    "    spam=['a','b','c','d']\n",
    "    spam[:2]#the start point is not given by default it takes 0 and the end index is 2 it prints the elements between start and end index\n",
    "    the value is ['a', 'b']\n",
    "    "
   ]
  },
  {
   "cell_type": "code",
   "execution_count": null,
   "id": "eb5454b1",
   "metadata": {},
   "outputs": [],
   "source": [
    "Lets pretend bacon has the list [3.14, 'cat',11,'cat' True] for the next three questions."
   ]
  },
  {
   "cell_type": "code",
   "execution_count": null,
   "id": "d3618b3c",
   "metadata": {},
   "outputs": [],
   "source": [
    "6. What is the value of bacon.index('cat')?\n",
    "ANSWER:\n",
    "    the answer is 1"
   ]
  },
  {
   "cell_type": "code",
   "execution_count": null,
   "id": "b83dec3d",
   "metadata": {},
   "outputs": [],
   "source": [
    "7. How does bacon.append(99) change the look of the list value in bacon?\n",
    "ANSWER:\n",
    "    [3.14, 'cat', 11, 'cat', True, 99]\n",
    "    append function adds the elment to the end of the list."
   ]
  },
  {
   "cell_type": "code",
   "execution_count": null,
   "id": "4f664e61",
   "metadata": {},
   "outputs": [],
   "source": [
    "8. How does bacon.remove('cat') change the look of the list in bacon?\n",
    "ANSWER:\n",
    "    bacon.remove('cat')\n",
    "    [3.14, 11, 'cat', True]\n",
    "    #removes the 'cat' from the first index and displays the list"
   ]
  },
  {
   "cell_type": "code",
   "execution_count": null,
   "id": "cada7a9a",
   "metadata": {},
   "outputs": [],
   "source": [
    "9. What are the list concatenation and list replication operators?\n",
    "ANSWER:\n",
    "    The operator for list concatenation is +, while the operator for replication is *."
   ]
  },
  {
   "cell_type": "code",
   "execution_count": null,
   "id": "b4c7d2a6",
   "metadata": {},
   "outputs": [],
   "source": [
    "10. What is difference between the list methods append() and insert()?\n",
    "ANSWER:\n",
    "    append():While append() will add values only to the end of a list.\n",
    "    insert():insert() can add them anywhere in the list.   "
   ]
  },
  {
   "cell_type": "code",
   "execution_count": null,
   "id": "9f848f18",
   "metadata": {},
   "outputs": [],
   "source": [
    "11. What are the two methods for removing items from a list?\n",
    "ANSWER:\n",
    "    The del statement and the remove() list method are two ways to remove values from list."
   ]
  },
  {
   "cell_type": "code",
   "execution_count": null,
   "id": "d32441c4",
   "metadata": {},
   "outputs": [],
   "source": [
    "12. Describe how list values and string values are identical.\n",
    "ANSWER:\n",
    "    Both lists and strings can be passed to len(), have indexes and slices, be used in for loops and be used with the in and not in operators."
   ]
  },
  {
   "cell_type": "code",
   "execution_count": null,
   "id": "e72e0fba",
   "metadata": {},
   "outputs": [],
   "source": [
    "13. What is the difference between tuples and lists?\n",
    "ANSWER:\n",
    "    Lists are mutable; they can have values added, removed, or changed. Tuples are immutable; they cannot be changed at all.\n",
    "    tuples are written using parentheses ().lists are written using square brackets []."
   ]
  },
  {
   "cell_type": "code",
   "execution_count": null,
   "id": "b09a6a9e",
   "metadata": {},
   "outputs": [],
   "source": [
    "14. How do you type a tuple value that only contains the integer 42?\n",
    "ANSWER:\n",
    "    we can type  (42,)."
   ]
  },
  {
   "cell_type": "code",
   "execution_count": null,
   "id": "3a3ffefc",
   "metadata": {},
   "outputs": [],
   "source": [
    "15. How do you get a list values tuple form? How do you get a tuple values list form?\n",
    "ANSWER:\n",
    "    The tuple() and list() functions, respectively."
   ]
  },
  {
   "cell_type": "code",
   "execution_count": null,
   "id": "c618d7c9",
   "metadata": {},
   "outputs": [],
   "source": [
    "16. Variables that \"contain\" list values are not necessarily lists themselves. Instead, what do they contain?\n",
    "ANSWER:\n",
    "    They contain references to list values."
   ]
  },
  {
   "cell_type": "code",
   "execution_count": null,
   "id": "6c1f4a28",
   "metadata": {},
   "outputs": [],
   "source": [
    "17. How do you distinguish between copy.copy() and copy.deepcopy()?\n",
    "ANSWER:\n",
    "    The copy.copy() function will do a shallow copy of a list.\n",
    "    while the copy.deepcopy() function will do a deep copy of a list."
   ]
  }
 ],
 "metadata": {
  "kernelspec": {
   "display_name": "Python 3 (ipykernel)",
   "language": "python",
   "name": "python3"
  },
  "language_info": {
   "codemirror_mode": {
    "name": "ipython",
    "version": 3
   },
   "file_extension": ".py",
   "mimetype": "text/x-python",
   "name": "python",
   "nbconvert_exporter": "python",
   "pygments_lexer": "ipython3",
   "version": "3.9.13"
  }
 },
 "nbformat": 4,
 "nbformat_minor": 5
}
